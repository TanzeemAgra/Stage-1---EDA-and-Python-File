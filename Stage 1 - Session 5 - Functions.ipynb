{
 "cells": [
  {
   "cell_type": "markdown",
   "id": "9fe7befd",
   "metadata": {},
   "source": [
    "# Functions in Python"
   ]
  },
  {
   "cell_type": "code",
   "execution_count": 1,
   "id": "0e74ac2d",
   "metadata": {},
   "outputs": [],
   "source": [
    "def my_function():\n",
    "    print(\"Hello World\")\n"
   ]
  },
  {
   "cell_type": "code",
   "execution_count": 2,
   "id": "ebf85c64",
   "metadata": {},
   "outputs": [
    {
     "name": "stdout",
     "output_type": "stream",
     "text": [
      "Hello World\n"
     ]
    }
   ],
   "source": [
    "my_function()"
   ]
  },
  {
   "cell_type": "markdown",
   "id": "c73ef08d",
   "metadata": {},
   "source": [
    "# Calling a Function"
   ]
  },
  {
   "cell_type": "code",
   "execution_count": 3,
   "id": "04ee0c2b",
   "metadata": {},
   "outputs": [],
   "source": [
    "def demo(fname):\n",
    "    print(fname+ \"Welcome to Xerxez Solutions\")"
   ]
  },
  {
   "cell_type": "code",
   "execution_count": 5,
   "id": "89646c57",
   "metadata": {},
   "outputs": [
    {
     "name": "stdout",
     "output_type": "stream",
     "text": [
      "Pooja Welcome to Xerxez Solutions\n"
     ]
    }
   ],
   "source": [
    "demo(\"Pooja \")"
   ]
  },
  {
   "cell_type": "code",
   "execution_count": 6,
   "id": "0f8f53bc",
   "metadata": {},
   "outputs": [
    {
     "name": "stdout",
     "output_type": "stream",
     "text": [
      "Linus Welcome to Xerxez Solutions\n"
     ]
    }
   ],
   "source": [
    "demo(\"Linus \")"
   ]
  },
  {
   "cell_type": "code",
   "execution_count": 10,
   "id": "940e5a51",
   "metadata": {},
   "outputs": [],
   "source": [
    "def my_function1(*kids):\n",
    "    print(\"The youngest child is\" +kids[1])"
   ]
  },
  {
   "cell_type": "code",
   "execution_count": 11,
   "id": "95fc8f12",
   "metadata": {},
   "outputs": [
    {
     "name": "stdout",
     "output_type": "stream",
     "text": [
      "The youngest child isTobia\n"
     ]
    }
   ],
   "source": [
    "my_function1(\"Emil\",\"Tobia\",\"Linus\")"
   ]
  },
  {
   "cell_type": "code",
   "execution_count": null,
   "id": "de3011f2",
   "metadata": {},
   "outputs": [],
   "source": []
  }
 ],
 "metadata": {
  "kernelspec": {
   "display_name": "Python 3 (ipykernel)",
   "language": "python",
   "name": "python3"
  },
  "language_info": {
   "codemirror_mode": {
    "name": "ipython",
    "version": 3
   },
   "file_extension": ".py",
   "mimetype": "text/x-python",
   "name": "python",
   "nbconvert_exporter": "python",
   "pygments_lexer": "ipython3",
   "version": "3.9.7"
  }
 },
 "nbformat": 4,
 "nbformat_minor": 5
}

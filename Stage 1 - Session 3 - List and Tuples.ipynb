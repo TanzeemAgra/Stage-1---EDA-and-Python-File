{
 "cells": [
  {
   "cell_type": "markdown",
   "id": "cc86975c",
   "metadata": {},
   "source": [
    "# List in Python"
   ]
  },
  {
   "cell_type": "code",
   "execution_count": 1,
   "id": "13536cef",
   "metadata": {},
   "outputs": [],
   "source": [
    "mylist = [\"apple\",\"banana\",\"orange\",\"cherry\"]"
   ]
  },
  {
   "cell_type": "code",
   "execution_count": 2,
   "id": "ae030943",
   "metadata": {},
   "outputs": [
    {
     "data": {
      "text/plain": [
       "['apple', 'banana', 'orange', 'cherry']"
      ]
     },
     "execution_count": 2,
     "metadata": {},
     "output_type": "execute_result"
    }
   ],
   "source": [
    "mylist"
   ]
  },
  {
   "cell_type": "code",
   "execution_count": 3,
   "id": "44afbd00",
   "metadata": {},
   "outputs": [
    {
     "data": {
      "text/plain": [
       "'banana'"
      ]
     },
     "execution_count": 3,
     "metadata": {},
     "output_type": "execute_result"
    }
   ],
   "source": [
    "mylist[1]"
   ]
  },
  {
   "cell_type": "markdown",
   "id": "e0918cfe",
   "metadata": {},
   "source": [
    "# Duplicate"
   ]
  },
  {
   "cell_type": "code",
   "execution_count": 4,
   "id": "f8704b12",
   "metadata": {},
   "outputs": [],
   "source": [
    "mylist = [\"apple\",\"banana\",\"orange\",\"cherry\",\"orange\"]"
   ]
  },
  {
   "cell_type": "code",
   "execution_count": 5,
   "id": "387e6a95",
   "metadata": {},
   "outputs": [
    {
     "data": {
      "text/plain": [
       "'orange'"
      ]
     },
     "execution_count": 5,
     "metadata": {},
     "output_type": "execute_result"
    }
   ],
   "source": [
    "mylist[4]"
   ]
  },
  {
   "cell_type": "code",
   "execution_count": 6,
   "id": "edf59b48",
   "metadata": {},
   "outputs": [
    {
     "data": {
      "text/plain": [
       "'orange'"
      ]
     },
     "execution_count": 6,
     "metadata": {},
     "output_type": "execute_result"
    }
   ],
   "source": [
    "mylist[2]"
   ]
  },
  {
   "cell_type": "markdown",
   "id": "3796ac6a",
   "metadata": {},
   "source": [
    "# Length"
   ]
  },
  {
   "cell_type": "code",
   "execution_count": 7,
   "id": "9a5c1b93",
   "metadata": {},
   "outputs": [
    {
     "data": {
      "text/plain": [
       "5"
      ]
     },
     "execution_count": 7,
     "metadata": {},
     "output_type": "execute_result"
    }
   ],
   "source": [
    "len(mylist)"
   ]
  },
  {
   "cell_type": "code",
   "execution_count": 8,
   "id": "60ec6ce3",
   "metadata": {},
   "outputs": [
    {
     "data": {
      "text/plain": [
       "['orange']"
      ]
     },
     "execution_count": 8,
     "metadata": {},
     "output_type": "execute_result"
    }
   ],
   "source": [
    "mylist[2:3]"
   ]
  },
  {
   "cell_type": "markdown",
   "id": "56bb6bf5",
   "metadata": {},
   "source": [
    "# Loop"
   ]
  },
  {
   "cell_type": "code",
   "execution_count": 11,
   "id": "27c149d1",
   "metadata": {},
   "outputs": [
    {
     "name": "stdout",
     "output_type": "stream",
     "text": [
      "apple\n",
      "banana\n",
      "orange\n",
      "cherry\n",
      "orange\n"
     ]
    }
   ],
   "source": [
    "for x in mylist:\n",
    "    print(x)"
   ]
  },
  {
   "cell_type": "markdown",
   "id": "e531fb7a",
   "metadata": {},
   "source": [
    "# Tuples in Python"
   ]
  },
  {
   "cell_type": "code",
   "execution_count": 12,
   "id": "d67b30a1",
   "metadata": {},
   "outputs": [],
   "source": [
    "mytuple = (1,\"india\",4,\"usa\")"
   ]
  },
  {
   "cell_type": "code",
   "execution_count": 16,
   "id": "457bb0ad",
   "metadata": {},
   "outputs": [],
   "source": [
    "mytuple1 = (5,\"Dubai\",7,\"Canada\")"
   ]
  },
  {
   "cell_type": "code",
   "execution_count": 13,
   "id": "e5ce27ea",
   "metadata": {},
   "outputs": [
    {
     "data": {
      "text/plain": [
       "'india'"
      ]
     },
     "execution_count": 13,
     "metadata": {},
     "output_type": "execute_result"
    }
   ],
   "source": [
    "mytuple[1]"
   ]
  },
  {
   "cell_type": "code",
   "execution_count": 14,
   "id": "f8920f27",
   "metadata": {},
   "outputs": [
    {
     "data": {
      "text/plain": [
       "4"
      ]
     },
     "execution_count": 14,
     "metadata": {},
     "output_type": "execute_result"
    }
   ],
   "source": [
    "mytuple[2]"
   ]
  },
  {
   "cell_type": "code",
   "execution_count": 15,
   "id": "48190885",
   "metadata": {},
   "outputs": [
    {
     "name": "stdout",
     "output_type": "stream",
     "text": [
      "1\n",
      "india\n",
      "4\n",
      "usa\n"
     ]
    }
   ],
   "source": [
    "for y in mytuple:\n",
    "    print(y)"
   ]
  },
  {
   "cell_type": "code",
   "execution_count": 17,
   "id": "533cd696",
   "metadata": {},
   "outputs": [],
   "source": [
    "mytuple2 = mytuple + mytuple1"
   ]
  },
  {
   "cell_type": "code",
   "execution_count": 18,
   "id": "21aa482a",
   "metadata": {},
   "outputs": [
    {
     "data": {
      "text/plain": [
       "(1, 'india', 4, 'usa', 5, 'Dubai', 7, 'Canada')"
      ]
     },
     "execution_count": 18,
     "metadata": {},
     "output_type": "execute_result"
    }
   ],
   "source": [
    "mytuple2"
   ]
  },
  {
   "cell_type": "code",
   "execution_count": null,
   "id": "8a8bf87c",
   "metadata": {},
   "outputs": [],
   "source": []
  }
 ],
 "metadata": {
  "kernelspec": {
   "display_name": "Python 3 (ipykernel)",
   "language": "python",
   "name": "python3"
  },
  "language_info": {
   "codemirror_mode": {
    "name": "ipython",
    "version": 3
   },
   "file_extension": ".py",
   "mimetype": "text/x-python",
   "name": "python",
   "nbconvert_exporter": "python",
   "pygments_lexer": "ipython3",
   "version": "3.9.7"
  }
 },
 "nbformat": 4,
 "nbformat_minor": 5
}

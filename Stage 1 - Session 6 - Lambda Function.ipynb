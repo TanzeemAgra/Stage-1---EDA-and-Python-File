{
 "cells": [
  {
   "cell_type": "markdown",
   "id": "effe9e57",
   "metadata": {},
   "source": [
    "# Lambda Function"
   ]
  },
  {
   "cell_type": "code",
   "execution_count": 1,
   "id": "16883ccc",
   "metadata": {},
   "outputs": [],
   "source": [
    "x = lambda a : a + 10"
   ]
  },
  {
   "cell_type": "code",
   "execution_count": 2,
   "id": "91f92496",
   "metadata": {},
   "outputs": [
    {
     "name": "stdout",
     "output_type": "stream",
     "text": [
      "15\n"
     ]
    }
   ],
   "source": [
    "print(x(5))"
   ]
  },
  {
   "cell_type": "code",
   "execution_count": 3,
   "id": "24e52271",
   "metadata": {},
   "outputs": [],
   "source": [
    "y = lambda a,b : a*b"
   ]
  },
  {
   "cell_type": "code",
   "execution_count": 4,
   "id": "1dedd421",
   "metadata": {},
   "outputs": [
    {
     "name": "stdout",
     "output_type": "stream",
     "text": [
      "30\n"
     ]
    }
   ],
   "source": [
    "print(y(5,6))"
   ]
  },
  {
   "cell_type": "markdown",
   "id": "0482ff11",
   "metadata": {},
   "source": [
    "# use lambda with Function"
   ]
  },
  {
   "cell_type": "code",
   "execution_count": 5,
   "id": "86aba1be",
   "metadata": {},
   "outputs": [],
   "source": [
    "def myfunction(n):\n",
    "    return lambda a : a*n"
   ]
  },
  {
   "cell_type": "code",
   "execution_count": 6,
   "id": "300e43c4",
   "metadata": {},
   "outputs": [],
   "source": [
    "mydoubler = myfunction(2)"
   ]
  },
  {
   "cell_type": "code",
   "execution_count": 7,
   "id": "1e4cc552",
   "metadata": {},
   "outputs": [
    {
     "name": "stdout",
     "output_type": "stream",
     "text": [
      "22\n"
     ]
    }
   ],
   "source": [
    "print(mydoubler(11))"
   ]
  },
  {
   "cell_type": "code",
   "execution_count": null,
   "id": "72ca41a3",
   "metadata": {},
   "outputs": [],
   "source": []
  }
 ],
 "metadata": {
  "kernelspec": {
   "display_name": "Python 3 (ipykernel)",
   "language": "python",
   "name": "python3"
  },
  "language_info": {
   "codemirror_mode": {
    "name": "ipython",
    "version": 3
   },
   "file_extension": ".py",
   "mimetype": "text/x-python",
   "name": "python",
   "nbconvert_exporter": "python",
   "pygments_lexer": "ipython3",
   "version": "3.9.7"
  }
 },
 "nbformat": 4,
 "nbformat_minor": 5
}

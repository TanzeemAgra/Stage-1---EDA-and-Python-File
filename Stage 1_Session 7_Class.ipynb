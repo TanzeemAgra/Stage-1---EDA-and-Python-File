{
 "cells": [
  {
   "cell_type": "markdown",
   "id": "7dc1d0bd",
   "metadata": {},
   "source": [
    "# Class And Objects in Python"
   ]
  },
  {
   "cell_type": "code",
   "execution_count": 1,
   "id": "5edb4f0a",
   "metadata": {},
   "outputs": [],
   "source": [
    "class myclass:\n",
    "    x = 5"
   ]
  },
  {
   "cell_type": "code",
   "execution_count": 2,
   "id": "986171e2",
   "metadata": {},
   "outputs": [
    {
     "name": "stdout",
     "output_type": "stream",
     "text": [
      "5\n"
     ]
    }
   ],
   "source": [
    "p1 = myclass()\n",
    "print(p1.x)"
   ]
  },
  {
   "cell_type": "markdown",
   "id": "183cc4c0",
   "metadata": {},
   "source": [
    "# Use of Init Function"
   ]
  },
  {
   "cell_type": "code",
   "execution_count": 6,
   "id": "0f642639",
   "metadata": {},
   "outputs": [],
   "source": [
    "class Person:\n",
    "    def __init__(self, name, age):\n",
    "        self.name=name\n",
    "        self.age = age\n",
    "    \n",
    "    def myfunction(self):\n",
    "        print(\"Hello my name is \" +self.name)\n"
   ]
  },
  {
   "cell_type": "code",
   "execution_count": 7,
   "id": "c57ec37b",
   "metadata": {},
   "outputs": [],
   "source": [
    "p2 = Person(\"Jhon\",36)"
   ]
  },
  {
   "cell_type": "code",
   "execution_count": 8,
   "id": "665cfdfd",
   "metadata": {},
   "outputs": [
    {
     "name": "stdout",
     "output_type": "stream",
     "text": [
      "Jhon\n",
      "36\n"
     ]
    }
   ],
   "source": [
    "print(p2.name)\n",
    "print(p2.age)"
   ]
  },
  {
   "cell_type": "code",
   "execution_count": 9,
   "id": "c935c6fa",
   "metadata": {},
   "outputs": [
    {
     "ename": "NameError",
     "evalue": "name 'myfunction' is not defined",
     "output_type": "error",
     "traceback": [
      "\u001b[1;31m---------------------------------------------------------------------------\u001b[0m",
      "\u001b[1;31mNameError\u001b[0m                                 Traceback (most recent call last)",
      "\u001b[1;32m~\\AppData\\Local\\Temp/ipykernel_8092/3543688026.py\u001b[0m in \u001b[0;36m<module>\u001b[1;34m\u001b[0m\n\u001b[1;32m----> 1\u001b[1;33m \u001b[0mmyfunction\u001b[0m\u001b[1;33m(\u001b[0m\u001b[1;33m)\u001b[0m\u001b[1;33m\u001b[0m\u001b[1;33m\u001b[0m\u001b[0m\n\u001b[0m",
      "\u001b[1;31mNameError\u001b[0m: name 'myfunction' is not defined"
     ]
    }
   ],
   "source": [
    "myfunction()"
   ]
  },
  {
   "cell_type": "code",
   "execution_count": null,
   "id": "19c204aa",
   "metadata": {},
   "outputs": [],
   "source": []
  }
 ],
 "metadata": {
  "kernelspec": {
   "display_name": "Python 3 (ipykernel)",
   "language": "python",
   "name": "python3"
  },
  "language_info": {
   "codemirror_mode": {
    "name": "ipython",
    "version": 3
   },
   "file_extension": ".py",
   "mimetype": "text/x-python",
   "name": "python",
   "nbconvert_exporter": "python",
   "pygments_lexer": "ipython3",
   "version": "3.9.7"
  }
 },
 "nbformat": 4,
 "nbformat_minor": 5
}
